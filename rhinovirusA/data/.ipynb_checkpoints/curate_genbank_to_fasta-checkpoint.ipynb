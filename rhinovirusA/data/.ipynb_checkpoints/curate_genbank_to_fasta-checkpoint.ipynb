{
 "cells": [
  {
   "cell_type": "code",
   "execution_count": 1,
   "id": "d1d9ebdd",
   "metadata": {},
   "outputs": [],
   "source": [
    "from Bio import SeqIO\n",
    "from Bio.Seq import Seq\n",
    "from Bio.SeqRecord import SeqRecord\n",
    "from dateutil.parser import parse\n",
    "from collections import Counter\n",
    "from dateutil import parser\n",
    "import re"
   ]
  },
  {
   "cell_type": "code",
   "execution_count": 5,
   "id": "c0064f75",
   "metadata": {
    "scrolled": false
   },
   "outputs": [
    {
     "data": {
      "text/plain": [
       "1172"
      ]
     },
     "execution_count": 5,
     "metadata": {},
     "output_type": "execute_result"
    }
   ],
   "source": [
    "#sequence data downloaded as a multi-genbank file\n",
    "#compile all sequences into a fasta file with header: accession|strain_name|date|country|host|subtype\n",
    "#Put date in 'yyyy-mm-dd' format\n",
    "\n",
    "not_subtyped_count = 0\n",
    "subtyped_count = 0\n",
    "\n",
    "\n",
    "#store all edited sequence records\n",
    "seq_records = []\n",
    "for record in SeqIO.parse(open(f\"genbank_sequences.gb\",\"r\"), \"genbank\"):\n",
    "    accession = record.annotations['accessions'][0]\n",
    "    collection_date, strain_name, country, host, subtype = 'None', 'None', 'None', 'None', 'None'\n",
    "    #exclude patent and synthetic sequences, that are not clinical isolates\n",
    "    if record.annotations['data_file_division'] not in ['PAT', 'SYN']:\n",
    "        \n",
    "        for feature in record.features:\n",
    "            if 'collection_date' in feature.qualifiers:\n",
    "                collection_date = feature.qualifiers['collection_date'][0]   \n",
    "            if 'strain' in feature.qualifiers:\n",
    "                strain_name = feature.qualifiers['strain'][0]\n",
    "            if 'country' in feature.qualifiers:\n",
    "                country = feature.qualifiers['country'][0]\n",
    "            if 'host' in feature.qualifiers:\n",
    "                host = feature.qualifiers['host'][0]\n",
    "        \n",
    "        #find subtype from 'organism' genbank entry\n",
    "        subtype_organism_search = re.search('rhinovirus A([0-9]*)', record.annotations['organism'], re.IGNORECASE)\n",
    "\n",
    "        if subtype_organism_search:\n",
    "            subtype = subtype_organism_search.group(1)\n",
    "            if subtype == '':\n",
    "                subtype = 'None'\n",
    "        \n",
    "        #otherwise, look in the 'description'\n",
    "        if subtype == 'None':\n",
    "            subtype_description_search = re.search('rhinovirus A strain C([0-9]*)', record.description, re.IGNORECASE)\n",
    "            \n",
    "            if subtype_description_search:\n",
    "                subtype = subtype_description_search.group(1)\n",
    "                if subtype == '':\n",
    "                    subtype = 'None'\n",
    "        \n",
    "        #the above assigns subtypes to about 83% isolates- do the rest by clustering on a rhinovirus-all tree\n",
    "        if subtype == 'None':\n",
    "            not_subtyped_count+=1\n",
    "        else:\n",
    "            subtyped_count+=1\n",
    "\n",
    "        \n",
    "                \n",
    "        #only keep country information, not city/state/region\n",
    "        if ':' in country:\n",
    "            country = country.split(':')[0]\n",
    "\n",
    "        if collection_date == 'None':\n",
    "            collection_date = record.annotations['date']\n",
    "\n",
    "\n",
    "        #only keep sequences with date\n",
    "        if collection_date != 'None' and collection_date!='May-2016/Dec-2017':\n",
    "            formatted_date = parser.parse(collection_date).strftime('%Y-%m-%d')\n",
    "            #dateutil parser will assign a day (today's date) to unknown days, and same for month, want XX instead\n",
    "            if len(collection_date)==8:\n",
    "                formatted_date = formatted_date[:-2] + 'XX'\n",
    "            elif len(collection_date)==4:\n",
    "                formatted_date = formatted_date[:5] + 'XX-XX'\n",
    "                \n",
    "            list_of_info = [accession, strain_name, formatted_date, country, host, subtype]\n",
    "            new_record_info = '|'.join(list_of_info)\n",
    "            seq_records.append(SeqRecord(record.seq, id=new_record_info, description=''))  \n",
    "            \n",
    "\n",
    "\n",
    "\n",
    "#write fasta sequence file \n",
    "SeqIO.write(seq_records, f'rhinovirusA_all.fasta', \"fasta\")"
   ]
  }
 ],
 "metadata": {
  "kernelspec": {
   "display_name": "Python 3 (ipykernel)",
   "language": "python",
   "name": "python3"
  },
  "language_info": {
   "codemirror_mode": {
    "name": "ipython",
    "version": 3
   },
   "file_extension": ".py",
   "mimetype": "text/x-python",
   "name": "python",
   "nbconvert_exporter": "python",
   "pygments_lexer": "ipython3",
   "version": "3.9.7"
  }
 },
 "nbformat": 4,
 "nbformat_minor": 5
}
