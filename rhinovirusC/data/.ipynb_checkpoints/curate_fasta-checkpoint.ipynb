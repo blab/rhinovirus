{
 "cells": [
  {
   "cell_type": "code",
   "execution_count": 1,
   "id": "006643e2",
   "metadata": {},
   "outputs": [],
   "source": [
    "from Bio import SeqIO\n",
    "from Bio.Seq import Seq\n",
    "from Bio.SeqRecord import SeqRecord"
   ]
  },
  {
   "cell_type": "code",
   "execution_count": 3,
   "id": "ae061590",
   "metadata": {},
   "outputs": [
    {
     "data": {
      "text/plain": [
       "504"
      ]
     },
     "execution_count": 3,
     "metadata": {},
     "output_type": "execute_result"
    }
   ],
   "source": [
    "#Put date in 'yyyy-mm-dd' format\n",
    "\n",
    "seq_records = []\n",
    "\n",
    "for record in SeqIO.parse(open(\"vipr_rhinovirus_c.fasta\",\"r\"), \"fasta\"):\n",
    "    date = record.id.split('|')[3]\n",
    "    # exclude sequences with no date\n",
    "    if date!= 'NA':\n",
    "        # if date only has year, add -XX-XX for month and day\n",
    "        if len(date)==4:\n",
    "            formatted_date = date+'-XX-XX'\n",
    "        else:\n",
    "            formatted_date = date.replace('_', '-')\n",
    "            # if date only has month, add -XX for day\n",
    "            if len(formatted_date)!=10:\n",
    "                formatted_date = formatted_date+'-XX'\n",
    "        record.id = record.id.replace(date, formatted_date)\n",
    "    \n",
    "\n",
    "        seq_records.append(SeqRecord(record.seq, id=record.id, description=record.description))\n",
    "\n",
    "\n",
    "SeqIO.write(seq_records, 'rhinovirus_C.fasta', \"fasta\")"
   ]
  },
  {
   "cell_type": "code",
   "execution_count": null,
   "id": "d52c0d4d",
   "metadata": {},
   "outputs": [],
   "source": []
  },
  {
   "cell_type": "code",
   "execution_count": null,
   "id": "47bea9f8",
   "metadata": {},
   "outputs": [],
   "source": []
  },
  {
   "cell_type": "code",
   "execution_count": null,
   "id": "dc578e66",
   "metadata": {},
   "outputs": [],
   "source": []
  },
  {
   "cell_type": "code",
   "execution_count": null,
   "id": "755f0218",
   "metadata": {},
   "outputs": [],
   "source": []
  },
  {
   "cell_type": "code",
   "execution_count": null,
   "id": "8d1ecbb5",
   "metadata": {},
   "outputs": [],
   "source": []
  }
 ],
 "metadata": {
  "kernelspec": {
   "display_name": "Python 3 (ipykernel)",
   "language": "python",
   "name": "python3"
  },
  "language_info": {
   "codemirror_mode": {
    "name": "ipython",
    "version": 3
   },
   "file_extension": ".py",
   "mimetype": "text/x-python",
   "name": "python",
   "nbconvert_exporter": "python",
   "pygments_lexer": "ipython3",
   "version": "3.9.7"
  }
 },
 "nbformat": 4,
 "nbformat_minor": 5
}
