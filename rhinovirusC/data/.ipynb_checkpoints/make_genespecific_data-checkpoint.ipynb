{
 "cells": [
  {
   "cell_type": "code",
   "execution_count": 1,
   "id": "d93d5a9f",
   "metadata": {},
   "outputs": [],
   "source": [
    "from Bio import SeqIO\n",
    "from Bio.Seq import Seq\n",
    "from Bio.SeqRecord import SeqRecord\n",
    "from collections import Counter\n",
    "import re"
   ]
  },
  {
   "cell_type": "code",
   "execution_count": 2,
   "id": "c29d5105",
   "metadata": {},
   "outputs": [],
   "source": [
    "#genes to make gene-specific builds for\n",
    "genes_to_build = ['VP3', '3D']"
   ]
  },
  {
   "cell_type": "code",
   "execution_count": 3,
   "id": "8ed1f6be",
   "metadata": {},
   "outputs": [],
   "source": [
    "#get genome location of each gene\n",
    "gene_locations = {}\n",
    "\n",
    "for record in SeqIO.parse(open(f\"../config/reference_rhinovirusC_all.gb\",\"r\"), \"genbank\"):\n",
    "    for feature in record.features:\n",
    "        if feature.type == 'CDS':\n",
    "            for gene in genes_to_build:\n",
    "                if feature.qualifiers['locus_tag'][0] == gene:\n",
    "                    gene_locations[gene] = feature.location"
   ]
  },
  {
   "cell_type": "code",
   "execution_count": 4,
   "id": "61c549bd",
   "metadata": {},
   "outputs": [],
   "source": [
    "#get all sequence metadata info from input fasta file\n",
    "metadata_by_accession = {}\n",
    "for record in SeqIO.parse(open(\"rhinovirusC_partialcds_all.fasta\", \"r\"), \"fasta\"):\n",
    "    accession = record.id.split('|')[0]\n",
    "    metadata_by_accession[accession] = record.description"
   ]
  },
  {
   "cell_type": "code",
   "execution_count": 5,
   "id": "90c28fd5",
   "metadata": {},
   "outputs": [],
   "source": [
    "#make gene-specific data input fasta files\n",
    "#only use sequence if it covers the gene by 80% or more\n",
    "\n",
    "gene_seq_records = {g:[] for g in genes_to_build}\n",
    "\n",
    "for record in SeqIO.parse(open(\"../results/aligned_rhinovirusC_partial.fasta\", \"r\"), \"fasta\"):\n",
    "    for gene in genes_to_build:\n",
    "        gene_sequence = gene_locations[gene].extract(record.seq)\n",
    "        #check that at least 80% of the gene was unambiguously sequenced\n",
    "        if Counter(gene_sequence)['N']/len(gene_sequence) <= 0.2:\n",
    "            \n",
    "            \n",
    "            gene_seq_records[gene].append(SeqRecord(gene_sequence, id=metadata_by_accession[record.description],\n",
    "                                                    description=''))\n",
    "            "
   ]
  },
  {
   "cell_type": "code",
   "execution_count": 6,
   "id": "c3a3dd86",
   "metadata": {},
   "outputs": [],
   "source": [
    "#write separate data file for each gene\n",
    "for g in genes_to_build:\n",
    "    SeqIO.write(gene_seq_records[g], f'rhinovirusC_{g}.fasta', \"fasta\")"
   ]
  }
 ],
 "metadata": {
  "kernelspec": {
   "display_name": "Python 3 (ipykernel)",
   "language": "python",
   "name": "python3"
  },
  "language_info": {
   "codemirror_mode": {
    "name": "ipython",
    "version": 3
   },
   "file_extension": ".py",
   "mimetype": "text/x-python",
   "name": "python",
   "nbconvert_exporter": "python",
   "pygments_lexer": "ipython3",
   "version": "3.9.7"
  }
 },
 "nbformat": 4,
 "nbformat_minor": 5
}
